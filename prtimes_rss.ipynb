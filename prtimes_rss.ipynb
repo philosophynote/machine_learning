{
  "nbformat": 4,
  "nbformat_minor": 0,
  "metadata": {
    "colab": {
      "provenance": [],
      "authorship_tag": "ABX9TyNnzN4iQ24xG7qXhnKFMvnU",
      "include_colab_link": true
    },
    "kernelspec": {
      "name": "python3",
      "display_name": "Python 3"
    },
    "language_info": {
      "name": "python"
    }
  },
  "cells": [
    {
      "cell_type": "markdown",
      "metadata": {
        "id": "view-in-github",
        "colab_type": "text"
      },
      "source": [
        "<a href=\"https://colab.research.google.com/github/philosophynote/machine_learning/blob/main/prtimes_rss.ipynb\" target=\"_parent\"><img src=\"https://colab.research.google.com/assets/colab-badge.svg\" alt=\"Open In Colab\"/></a>"
      ]
    },
    {
      "cell_type": "code",
      "source": [
        "!pip install feedparser"
      ],
      "metadata": {
        "colab": {
          "base_uri": "https://localhost:8080/"
        },
        "id": "9E7m7hQyN4KS",
        "outputId": "12d7fcc7-627a-4ebb-a264-95a69f7b6fb0"
      },
      "execution_count": 1,
      "outputs": [
        {
          "output_type": "stream",
          "name": "stdout",
          "text": [
            "Looking in indexes: https://pypi.org/simple, https://us-python.pkg.dev/colab-wheels/public/simple/\n",
            "Collecting feedparser\n",
            "  Downloading feedparser-6.0.10-py3-none-any.whl (81 kB)\n",
            "\u001b[2K     \u001b[90m━━━━━━━━━━━━━━━━━━━━━━━━━━━━━━━━━━━━━━━━\u001b[0m \u001b[32m81.1/81.1 KB\u001b[0m \u001b[31m3.0 MB/s\u001b[0m eta \u001b[36m0:00:00\u001b[0m\n",
            "\u001b[?25hCollecting sgmllib3k\n",
            "  Downloading sgmllib3k-1.0.0.tar.gz (5.8 kB)\n",
            "  Preparing metadata (setup.py) ... \u001b[?25l\u001b[?25hdone\n",
            "Building wheels for collected packages: sgmllib3k\n",
            "  Building wheel for sgmllib3k (setup.py) ... \u001b[?25l\u001b[?25hdone\n",
            "  Created wheel for sgmllib3k: filename=sgmllib3k-1.0.0-py3-none-any.whl size=6066 sha256=353fd112e52038e9923681ddb4c36b0bd8f75b0a5a3e345cd5ecdb5c868069d3\n",
            "  Stored in directory: /root/.cache/pip/wheels/83/63/2f/117884c3b19d46b64d3d61690333aa80c88dc14050e269c546\n",
            "Successfully built sgmllib3k\n",
            "Installing collected packages: sgmllib3k, feedparser\n",
            "Successfully installed feedparser-6.0.10 sgmllib3k-1.0.0\n"
          ]
        }
      ]
    },
    {
      "cell_type": "code",
      "source": [
        "import re\n",
        "title = \"調達\"\n",
        "if re.search(\"調達\", title):\n",
        "  print(\"ttt\")\n",
        "# \"調達\".in(title)\n",
        "# title.find(\"調達\")"
      ],
      "metadata": {
        "colab": {
          "base_uri": "https://localhost:8080/"
        },
        "id": "q7kSgaU7ToD2",
        "outputId": "654cd0c4-c003-4136-9687-d11a2d042f31"
      },
      "execution_count": 42,
      "outputs": [
        {
          "output_type": "stream",
          "name": "stdout",
          "text": [
            "ttt\n"
          ]
        }
      ]
    },
    {
      "cell_type": "code",
      "execution_count": 51,
      "metadata": {
        "id": "n8oB39XSNlGj"
      },
      "outputs": [],
      "source": [
        "import json\n",
        "from datetime import datetime,timezone,timedelta\n",
        "import requests\n",
        "from bs4 import BeautifulSoup\n",
        "from urllib.request import Request, urlopen\n",
        "import feedparser\n",
        "import pytz\n",
        "import re\n",
        "from time import mktime\n",
        "\n",
        "RSS_URL = \"https://prtimes.jp/index.rdf\"\n",
        "SLACK_CHANNEL = \"\"\n",
        "SLACK_USERNAME = \"\"\n",
        "SLACK_URL = \"\"\n",
        "THRESHOLD = 1\n",
        "\n",
        "def post_slack(text):\n",
        "    send_data = {\n",
        "        \"channel\": SLACK_CHANNEL,\n",
        "        \"username\": SLACK_USERNAME,\n",
        "        \"text\": text\n",
        "    }\n",
        "    payload = \"payload=\" + json.dumps(send_data)\n",
        "    request = Request(\n",
        "        SLACK_URL,\n",
        "        data=payload.encode(\"utf-8\"),\n",
        "        method=\"POST\"\n",
        "        )\n",
        "    with urlopen(request) as response:\n",
        "        response_body = response.read().decode(\"utf-8\")\n",
        "\n",
        "def is_financing(title, keyword_text):\n",
        "    return re.search(\"調達\", title) or re.search(\"調達\", keyword_text)\n",
        "\n",
        "def lambda_handler():\n",
        "    try:\n",
        "        # 対象のRSSフィードを取得\n",
        "        feed = feedparser.parse(RSS_URL)\n",
        "        target_list = []\n",
        "\n",
        "        for entry in feed.entries[0:1]:\n",
        "          now = datetime.now(pytz.timezone('Asia/Tokyo'))\n",
        "          entry_date = datetime.fromisoformat(entry.updated)\n",
        "          threshold = now - timedelta(hours=THRESHOLD)\n",
        "\n",
        "          if threshold <= entry_date < now:\n",
        "            url = entry.link\n",
        "          response = requests.get(url)\n",
        "          soup = BeautifulSoup(response.content, 'html.parser')\n",
        "          keyword = soup.find('dl', {'class': 'entry-info-renew'})\n",
        "          if keyword and is_financing(entry.title, keyword.text):\n",
        "            tmp = entry.title + '\\n' + entry.link + '\\n'\n",
        "            target_list.append(tmp)\n",
        "\n",
        "        if len(target_list) > 0:\n",
        "            # 更新されていればSlackに投稿\n",
        "            print('post slack')\n",
        "            post_slack('\\n'.join(target_list))\n",
        "\n",
        "    except Exception as e:\n",
        "        print(e)\n",
        "        raise e\n",
        "      "
      ]
    },
    {
      "cell_type": "code",
      "source": [
        "lambda_handler()"
      ],
      "metadata": {
        "colab": {
          "base_uri": "https://localhost:8080/"
        },
        "id": "BZC18_zqSl-y",
        "outputId": "fb7798d7-6120-4952-f561-960375f86cbe"
      },
      "execution_count": 52,
      "outputs": [
        {
          "output_type": "stream",
          "name": "stdout",
          "text": [
            "VSingerをテレビドラマ主題歌に起用！「恋愛裁判」の40mP、人気絵師ぶしなど豪華布陣でデビュー！「VSinger Audition～地上波ドラマ主題歌起用～」のファイナルが開催中\n",
            "\n",
            "種類\n",
            "商品サービス\n",
            "ビジネスカテゴリ\n",
            "ネットサービス物流・倉庫・貨物\n",
            "キーワード\n",
            "\n",
            "\n",
            "DX\n",
            "海事産業\n",
            "海事DC\n",
            "船員\n",
            "船員労務管理\n",
            "SaaS\n",
            "海運\n",
            "\n",
            "\n",
            "\n",
            "None\n",
            "post slack\n"
          ]
        }
      ]
    },
    {
      "cell_type": "code",
      "source": [
        "feed = feedparser.parse(RSS_URL)"
      ],
      "metadata": {
        "id": "TBh8nCkWODxI"
      },
      "execution_count": 3,
      "outputs": []
    },
    {
      "cell_type": "code",
      "source": [
        "tmp = feed['entries'][0]\n",
        "tmp"
      ],
      "metadata": {
        "colab": {
          "base_uri": "https://localhost:8080/"
        },
        "id": "oAwqpkvOOFWU",
        "outputId": "a66dd2d7-c1bf-402b-cd3a-658e1b7486e5"
      },
      "execution_count": 33,
      "outputs": [
        {
          "output_type": "execute_result",
          "data": {
            "text/plain": [
              "{'id': 'https://prtimes.jp/main/html/rd/p/000000002.000110150.html',\n",
              " 'title': '躍動と色彩のドラマー羽生一子率いるHABUBAN 新作CD「Time for the Stars」3月30日リリース',\n",
              " 'title_detail': {'type': 'text/plain',\n",
              "  'language': None,\n",
              "  'base': 'https://prtimes.jp/index.rdf',\n",
              "  'value': '躍動と色彩のドラマー羽生一子率いるHABUBAN 新作CD「Time for the Stars」3月30日リリース'},\n",
              " 'links': [{'rel': 'alternate',\n",
              "   'type': 'text/html',\n",
              "   'href': 'https://prtimes.jp/main/html/rd/p/000000002.000110150.html'}],\n",
              " 'link': 'https://prtimes.jp/main/html/rd/p/000000002.000110150.html',\n",
              " 'summary': '[ミラレソ株式会社]\\n[画像1: https://prtimes.jp/i/110150/2/resize/d110150-2-26a4c48a9b7c2bae3230-0.jpg ]\\n\\nベーシスト、プロデューサー 飯田雅春による新レーベル Milareso Records(ミラレソレコード)第2弾。\\n\\n【HABUBAN】\\n羽生...',\n",
              " 'summary_detail': {'type': 'text/html',\n",
              "  'language': None,\n",
              "  'base': 'https://prtimes.jp/index.rdf',\n",
              "  'value': '[ミラレソ株式会社]\\n[画像1: https://prtimes.jp/i/110150/2/resize/d110150-2-26a4c48a9b7c2bae3230-0.jpg ]\\n\\nベーシスト、プロデューサー 飯田雅春による新レーベル Milareso Records(ミラレソレコード)第2弾。\\n\\n【HABUBAN】\\n羽生...'},\n",
              " 'dc_corp': 'ミラレソ株式会社',\n",
              " 'business_form': '企業・官公庁・団体',\n",
              " 'updated': '2023-02-26',\n",
              " 'updated_parsed': time.struct_time(tm_year=2023, tm_mon=2, tm_mday=26, tm_hour=7, tm_min=40, tm_sec=2, tm_wday=6, tm_yday=57, tm_isdst=0)}"
            ]
          },
          "metadata": {},
          "execution_count": 33
        }
      ]
    },
    {
      "cell_type": "code",
      "source": [
        "\n",
        "\n",
        "now = datetime.now(pytz.timezone('Asia/Tokyo'))\n",
        "entry_date = datetime.fromtimestamp(mktime(tmp.updated_parsed), pytz.timezone('Asia/Tokyo'))\n",
        "threshold = now - timedelta(hours=THRESHOLD)\n"
      ],
      "metadata": {
        "id": "Xl9n6gUhNoG0"
      },
      "execution_count": 28,
      "outputs": []
    },
    {
      "cell_type": "code",
      "source": [
        "now"
      ],
      "metadata": {
        "colab": {
          "base_uri": "https://localhost:8080/"
        },
        "id": "0ln3Jwt_PCzU",
        "outputId": "d610a614-e4bc-4d68-fd28-9f75c0eadfca"
      },
      "execution_count": 29,
      "outputs": [
        {
          "output_type": "execute_result",
          "data": {
            "text/plain": [
              "datetime.datetime(2023, 2, 26, 19, 15, 38, 297458, tzinfo=<DstTzInfo 'Asia/Tokyo' JST+9:00:00 STD>)"
            ]
          },
          "metadata": {},
          "execution_count": 29
        }
      ]
    },
    {
      "cell_type": "code",
      "source": [
        "entry_date"
      ],
      "metadata": {
        "colab": {
          "base_uri": "https://localhost:8080/"
        },
        "id": "JMzuEv9tPD3O",
        "outputId": "48f38871-346a-4b92-ace3-eeef5b506762"
      },
      "execution_count": 30,
      "outputs": [
        {
          "output_type": "execute_result",
          "data": {
            "text/plain": [
              "datetime.datetime(2023, 2, 26, 16, 40, 2, tzinfo=<DstTzInfo 'Asia/Tokyo' JST+9:00:00 STD>)"
            ]
          },
          "metadata": {},
          "execution_count": 30
        }
      ]
    },
    {
      "cell_type": "code",
      "source": [
        "threshold"
      ],
      "metadata": {
        "colab": {
          "base_uri": "https://localhost:8080/"
        },
        "id": "DYLwVqVaPFgs",
        "outputId": "da4c7cfc-fb9e-4b88-c071-2edf428a8c1b"
      },
      "execution_count": 31,
      "outputs": [
        {
          "output_type": "execute_result",
          "data": {
            "text/plain": [
              "datetime.datetime(2023, 2, 26, 18, 15, 38, 297458, tzinfo=<DstTzInfo 'Asia/Tokyo' JST+9:00:00 STD>)"
            ]
          },
          "metadata": {},
          "execution_count": 31
        }
      ]
    },
    {
      "cell_type": "code",
      "source": [
        "if threshold <= entry_date < now:\n",
        "  url = tmp.link\n",
        "  response = requests.get(url)\n",
        "  soup = BeautifulSoup(response.content, 'html.parser')\n",
        "  keyword = soup.find('dl', {'class': 'entry-info-renew'})\n",
        "  # if keyword.text.find(\"資金調達\") != -1:\n",
        "  #     continue\n",
        "  tmp = tmp.title + '\\n' + tmp.link + '\\n' + tmp.updated + '\\n' \n",
        "  print(tmp)"
      ],
      "metadata": {
        "id": "M2o8YRJLOAEt"
      },
      "execution_count": 24,
      "outputs": []
    },
    {
      "cell_type": "code",
      "source": [
        "threshold <= entry_date < now"
      ],
      "metadata": {
        "colab": {
          "base_uri": "https://localhost:8080/"
        },
        "id": "OhTDYAt5OaCS",
        "outputId": "21d2d028-02d6-400e-c6d8-5ccaf7a23ff1"
      },
      "execution_count": 32,
      "outputs": [
        {
          "output_type": "execute_result",
          "data": {
            "text/plain": [
              "False"
            ]
          },
          "metadata": {},
          "execution_count": 32
        }
      ]
    },
    {
      "cell_type": "code",
      "source": [],
      "metadata": {
        "id": "J_NTaqDAP1Cy"
      },
      "execution_count": null,
      "outputs": []
    }
  ]
}