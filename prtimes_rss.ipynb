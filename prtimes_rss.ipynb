{
  "nbformat": 4,
  "nbformat_minor": 0,
  "metadata": {
    "colab": {
      "provenance": [],
      "authorship_tag": "ABX9TyM/CkyzGVPsFFbHQJf8+JtH",
      "include_colab_link": true
    },
    "kernelspec": {
      "name": "python3",
      "display_name": "Python 3"
    },
    "language_info": {
      "name": "python"
    }
  },
  "cells": [
    {
      "cell_type": "markdown",
      "metadata": {
        "id": "view-in-github",
        "colab_type": "text"
      },
      "source": [
        "<a href=\"https://colab.research.google.com/github/philosophynote/machine_learning/blob/main/prtimes_rss.ipynb\" target=\"_parent\"><img src=\"https://colab.research.google.com/assets/colab-badge.svg\" alt=\"Open In Colab\"/></a>"
      ]
    },
    {
      "cell_type": "code",
      "source": [
        "!pip install feedparser"
      ],
      "metadata": {
        "colab": {
          "base_uri": "https://localhost:8080/"
        },
        "id": "9E7m7hQyN4KS",
        "outputId": "09ddd4cf-cc2d-42ad-a167-757732ea1a5c"
      },
      "execution_count": 53,
      "outputs": [
        {
          "output_type": "stream",
          "name": "stdout",
          "text": [
            "Looking in indexes: https://pypi.org/simple, https://us-python.pkg.dev/colab-wheels/public/simple/\n",
            "Requirement already satisfied: feedparser in /usr/local/lib/python3.8/dist-packages (6.0.10)\n",
            "Requirement already satisfied: sgmllib3k in /usr/local/lib/python3.8/dist-packages (from feedparser) (1.0.0)\n"
          ]
        }
      ]
    },
    {
      "cell_type": "code",
      "source": [
        "import re\n",
        "title = \"調達\"\n",
        "if re.search(\"調達\", title):\n",
        "  print(\"ttt\")\n",
        "# \"調達\".in(title)\n",
        "# title.find(\"調達\")"
      ],
      "metadata": {
        "colab": {
          "base_uri": "https://localhost:8080/"
        },
        "id": "q7kSgaU7ToD2",
        "outputId": "8e5cc101-28b5-43a8-f978-7b9bf7ccaad3"
      },
      "execution_count": 54,
      "outputs": [
        {
          "output_type": "stream",
          "name": "stdout",
          "text": [
            "ttt\n"
          ]
        }
      ]
    },
    {
      "cell_type": "code",
      "execution_count": 62,
      "metadata": {
        "id": "n8oB39XSNlGj"
      },
      "outputs": [],
      "source": [
        "import json\n",
        "from datetime import datetime,timezone,timedelta\n",
        "import requests\n",
        "from bs4 import BeautifulSoup\n",
        "from urllib.request import Request, urlopen\n",
        "import feedparser\n",
        "import pytz\n",
        "import re\n",
        "from time import mktime\n",
        "\n",
        "RSS_URL = \"https://prtimes.jp/index.rdf\"\n",
        "SLACK_CHANNEL = \"\"\n",
        "SLACK_USERNAME = \"\"\n",
        "SLACK_URL = \"\"\n",
        "THRESHOLD = 8\n",
        "\n",
        "def post_slack(text):\n",
        "    send_data = {\n",
        "        \"channel\": SLACK_CHANNEL,\n",
        "        \"username\": SLACK_USERNAME,\n",
        "        \"text\": text\n",
        "    }\n",
        "    payload = \"payload=\" + json.dumps(send_data)\n",
        "    request = Request(\n",
        "        SLACK_URL,\n",
        "        data=payload.encode(\"utf-8\"),\n",
        "        method=\"POST\"\n",
        "        )\n",
        "    with urlopen(request) as response:\n",
        "        response_body = response.read().decode(\"utf-8\")\n",
        "\n",
        "def is_financing(title, keyword_text):\n",
        "    return re.search(\"調達\", title) or re.search(\"調達\", keyword_text)\n",
        "\n",
        "def lambda_handler():\n",
        "    try:\n",
        "        # 対象のRSSフィードを取得\n",
        "        feed = feedparser.parse(RSS_URL)\n",
        "        target_list = []\n",
        "\n",
        "        for entry in feed.entries:\n",
        "          now = datetime.now(pytz.timezone('Asia/Tokyo'))\n",
        "          entry_date = datetime.fromtimestamp(mktime(entry.updated_parsed), pytz.timezone('Asia/Tokyo'))\n",
        "          threshold = now - timedelta(hours=THRESHOLD)\n",
        "\n",
        "          if threshold <= entry_date < now:\n",
        "            url = entry.link\n",
        "            response = requests.get(url)\n",
        "            soup = BeautifulSoup(response.content, 'html.parser')\n",
        "            keyword = soup.find('dl', {'class': 'entry-info-renew'})\n",
        "            if keyword and is_financing(entry.title, keyword.text):\n",
        "              tmp = entry.title + '\\n' + entry.link + '\\n'\n",
        "              target_list.append(tmp)\n",
        "\n",
        "        if len(target_list) > 0:\n",
        "            # 更新されていればSlackに投稿\n",
        "            print('post slack')\n",
        "            post_slack('\\n'.join(target_list))\n",
        "\n",
        "    except Exception as e:\n",
        "        print(e)\n",
        "        raise e\n",
        "      "
      ]
    },
    {
      "cell_type": "code",
      "source": [
        "lambda_handler()"
      ],
      "metadata": {
        "colab": {
          "base_uri": "https://localhost:8080/"
        },
        "id": "BZC18_zqSl-y",
        "outputId": "c4bda355-679a-4b5f-c07b-7f9880945ac0"
      },
      "execution_count": 63,
      "outputs": [
        {
          "output_type": "stream",
          "name": "stdout",
          "text": [
            "post slack\n"
          ]
        }
      ]
    },
    {
      "cell_type": "code",
      "source": [
        "now = datetime.now(pytz.timezone('Asia/Tokyo'))\n",
        "entry_date = datetime.fromtimestamp(mktime(tmp.updated_parsed), pytz.timezone('Asia/Tokyo'))\n",
        "threshold = now - timedelta(hours=THRESHOLD)"
      ],
      "metadata": {
        "id": "TBh8nCkWODxI"
      },
      "execution_count": 65,
      "outputs": []
    },
    {
      "cell_type": "code",
      "source": [
        "tmp = feed['entries'][0]\n",
        "tmp"
      ],
      "metadata": {
        "colab": {
          "base_uri": "https://localhost:8080/"
        },
        "id": "oAwqpkvOOFWU",
        "outputId": "ef1734aa-e205-4c9b-801e-bbe7e7910cdc"
      },
      "execution_count": 64,
      "outputs": [
        {
          "output_type": "execute_result",
          "data": {
            "text/plain": [
              "{'id': 'https://prtimes.jp/main/html/rd/p/000000002.000110150.html',\n",
              " 'title': '躍動と色彩のドラマー羽生一子率いるHABUBAN 新作CD「Time for the Stars」3月30日リリース',\n",
              " 'title_detail': {'type': 'text/plain',\n",
              "  'language': None,\n",
              "  'base': 'https://prtimes.jp/index.rdf',\n",
              "  'value': '躍動と色彩のドラマー羽生一子率いるHABUBAN 新作CD「Time for the Stars」3月30日リリース'},\n",
              " 'links': [{'rel': 'alternate',\n",
              "   'type': 'text/html',\n",
              "   'href': 'https://prtimes.jp/main/html/rd/p/000000002.000110150.html'}],\n",
              " 'link': 'https://prtimes.jp/main/html/rd/p/000000002.000110150.html',\n",
              " 'summary': '[ミラレソ株式会社]\\n[画像1: https://prtimes.jp/i/110150/2/resize/d110150-2-26a4c48a9b7c2bae3230-0.jpg ]\\n\\nベーシスト、プロデューサー 飯田雅春による新レーベル Milareso Records(ミラレソレコード)第2弾。\\n\\n【HABUBAN】\\n羽生...',\n",
              " 'summary_detail': {'type': 'text/html',\n",
              "  'language': None,\n",
              "  'base': 'https://prtimes.jp/index.rdf',\n",
              "  'value': '[ミラレソ株式会社]\\n[画像1: https://prtimes.jp/i/110150/2/resize/d110150-2-26a4c48a9b7c2bae3230-0.jpg ]\\n\\nベーシスト、プロデューサー 飯田雅春による新レーベル Milareso Records(ミラレソレコード)第2弾。\\n\\n【HABUBAN】\\n羽生...'},\n",
              " 'dc_corp': 'ミラレソ株式会社',\n",
              " 'business_form': '企業・官公庁・団体',\n",
              " 'updated': '2023-02-26',\n",
              " 'updated_parsed': time.struct_time(tm_year=2023, tm_mon=2, tm_mday=26, tm_hour=7, tm_min=40, tm_sec=2, tm_wday=6, tm_yday=57, tm_isdst=0)}"
            ]
          },
          "metadata": {},
          "execution_count": 64
        }
      ]
    },
    {
      "cell_type": "code",
      "source": [
        "\n",
        "\n",
        "now = datetime.now(pytz.timezone('Asia/Tokyo'))\n",
        "entry_date = datetime.fromtimestamp(mktime(tmp.updated_parsed), pytz.timezone('Asia/Tokyo'))\n",
        "threshold = now - timedelta(hours=THRESHOLD)\n"
      ],
      "metadata": {
        "id": "Xl9n6gUhNoG0"
      },
      "execution_count": null,
      "outputs": []
    },
    {
      "cell_type": "code",
      "source": [
        "now"
      ],
      "metadata": {
        "colab": {
          "base_uri": "https://localhost:8080/"
        },
        "id": "0ln3Jwt_PCzU",
        "outputId": "a3719418-33e8-4256-ce3d-91729ceb1559"
      },
      "execution_count": 66,
      "outputs": [
        {
          "output_type": "execute_result",
          "data": {
            "text/plain": [
              "datetime.datetime(2023, 2, 26, 21, 21, 17, 604580, tzinfo=<DstTzInfo 'Asia/Tokyo' JST+9:00:00 STD>)"
            ]
          },
          "metadata": {},
          "execution_count": 66
        }
      ]
    },
    {
      "cell_type": "code",
      "source": [
        "entry_date"
      ],
      "metadata": {
        "colab": {
          "base_uri": "https://localhost:8080/"
        },
        "id": "JMzuEv9tPD3O",
        "outputId": "03f6f5c0-9ae3-48a8-e6d8-484a10f264b5"
      },
      "execution_count": 67,
      "outputs": [
        {
          "output_type": "execute_result",
          "data": {
            "text/plain": [
              "datetime.datetime(2023, 2, 26, 16, 40, 2, tzinfo=<DstTzInfo 'Asia/Tokyo' JST+9:00:00 STD>)"
            ]
          },
          "metadata": {},
          "execution_count": 67
        }
      ]
    },
    {
      "cell_type": "code",
      "source": [
        "threshold"
      ],
      "metadata": {
        "colab": {
          "base_uri": "https://localhost:8080/"
        },
        "id": "DYLwVqVaPFgs",
        "outputId": "2eb81757-9fa0-43be-d4f5-7192f9341760"
      },
      "execution_count": 68,
      "outputs": [
        {
          "output_type": "execute_result",
          "data": {
            "text/plain": [
              "datetime.datetime(2023, 2, 26, 13, 21, 17, 604580, tzinfo=<DstTzInfo 'Asia/Tokyo' JST+9:00:00 STD>)"
            ]
          },
          "metadata": {},
          "execution_count": 68
        }
      ]
    },
    {
      "cell_type": "code",
      "source": [
        "if threshold <= entry_date < now:\n",
        "  url = tmp.link\n",
        "  response = requests.get(url)\n",
        "  soup = BeautifulSoup(response.content, 'html.parser')\n",
        "  keyword = soup.find('dl', {'class': 'entry-info-renew'})\n",
        "  # if keyword.text.find(\"資金調達\") != -1:\n",
        "  #     continue\n",
        "  tmp = tmp.title + '\\n' + tmp.link + '\\n' + tmp.updated + '\\n' \n",
        "  print(tmp)"
      ],
      "metadata": {
        "id": "M2o8YRJLOAEt"
      },
      "execution_count": null,
      "outputs": []
    },
    {
      "cell_type": "code",
      "source": [
        "threshold <= entry_date < now"
      ],
      "metadata": {
        "colab": {
          "base_uri": "https://localhost:8080/"
        },
        "id": "OhTDYAt5OaCS",
        "outputId": "21d2d028-02d6-400e-c6d8-5ccaf7a23ff1"
      },
      "execution_count": null,
      "outputs": [
        {
          "output_type": "execute_result",
          "data": {
            "text/plain": [
              "False"
            ]
          },
          "metadata": {},
          "execution_count": 32
        }
      ]
    },
    {
      "cell_type": "code",
      "source": [],
      "metadata": {
        "id": "J_NTaqDAP1Cy"
      },
      "execution_count": null,
      "outputs": []
    }
  ]
}