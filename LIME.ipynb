{
  "nbformat": 4,
  "nbformat_minor": 0,
  "metadata": {
    "colab": {
      "provenance": [],
      "authorship_tag": "ABX9TyMOfcSXJUoj8txFzi37IADz",
      "include_colab_link": true
    },
    "kernelspec": {
      "name": "python3",
      "display_name": "Python 3"
    },
    "language_info": {
      "name": "python"
    }
  },
  "cells": [
    {
      "cell_type": "markdown",
      "metadata": {
        "id": "view-in-github",
        "colab_type": "text"
      },
      "source": [
        "<a href=\"https://colab.research.google.com/github/philosophynote/machine_learning/blob/main/LIME.ipynb\" target=\"_parent\"><img src=\"https://colab.research.google.com/assets/colab-badge.svg\" alt=\"Open In Colab\"/></a>"
      ]
    },
    {
      "cell_type": "code",
      "source": [
        "!pip install lime"
      ],
      "metadata": {
        "colab": {
          "base_uri": "https://localhost:8080/"
        },
        "id": "94ZrwaNpvSQS",
        "outputId": "a6786ba9-e045-4d27-d6ee-28d3c07d5c7f"
      },
      "execution_count": 1,
      "outputs": [
        {
          "output_type": "stream",
          "name": "stdout",
          "text": [
            "Looking in indexes: https://pypi.org/simple, https://us-python.pkg.dev/colab-wheels/public/simple/\n",
            "Collecting lime\n",
            "  Downloading lime-0.2.0.1.tar.gz (275 kB)\n",
            "\u001b[2K     \u001b[90m━━━━━━━━━━━━━━━━━━━━━━━━━━━━━━━━━━━━━━━\u001b[0m \u001b[32m275.7/275.7 KB\u001b[0m \u001b[31m4.2 MB/s\u001b[0m eta \u001b[36m0:00:00\u001b[0m\n",
            "\u001b[?25h  Preparing metadata (setup.py) ... \u001b[?25l\u001b[?25hdone\n",
            "Requirement already satisfied: matplotlib in /usr/local/lib/python3.8/dist-packages (from lime) (3.2.2)\n",
            "Requirement already satisfied: numpy in /usr/local/lib/python3.8/dist-packages (from lime) (1.21.6)\n",
            "Requirement already satisfied: scipy in /usr/local/lib/python3.8/dist-packages (from lime) (1.7.3)\n",
            "Requirement already satisfied: tqdm in /usr/local/lib/python3.8/dist-packages (from lime) (4.64.1)\n",
            "Requirement already satisfied: scikit-learn>=0.18 in /usr/local/lib/python3.8/dist-packages (from lime) (1.0.2)\n",
            "Requirement already satisfied: scikit-image>=0.12 in /usr/local/lib/python3.8/dist-packages (from lime) (0.18.3)\n",
            "Requirement already satisfied: pillow!=7.1.0,!=7.1.1,>=4.3.0 in /usr/local/lib/python3.8/dist-packages (from scikit-image>=0.12->lime) (7.1.2)\n",
            "Requirement already satisfied: tifffile>=2019.7.26 in /usr/local/lib/python3.8/dist-packages (from scikit-image>=0.12->lime) (2023.2.3)\n",
            "Requirement already satisfied: PyWavelets>=1.1.1 in /usr/local/lib/python3.8/dist-packages (from scikit-image>=0.12->lime) (1.4.1)\n",
            "Requirement already satisfied: imageio>=2.3.0 in /usr/local/lib/python3.8/dist-packages (from scikit-image>=0.12->lime) (2.9.0)\n",
            "Requirement already satisfied: networkx>=2.0 in /usr/local/lib/python3.8/dist-packages (from scikit-image>=0.12->lime) (3.0)\n",
            "Requirement already satisfied: cycler>=0.10 in /usr/local/lib/python3.8/dist-packages (from matplotlib->lime) (0.11.0)\n",
            "Requirement already satisfied: python-dateutil>=2.1 in /usr/local/lib/python3.8/dist-packages (from matplotlib->lime) (2.8.2)\n",
            "Requirement already satisfied: pyparsing!=2.0.4,!=2.1.2,!=2.1.6,>=2.0.1 in /usr/local/lib/python3.8/dist-packages (from matplotlib->lime) (3.0.9)\n",
            "Requirement already satisfied: kiwisolver>=1.0.1 in /usr/local/lib/python3.8/dist-packages (from matplotlib->lime) (1.4.4)\n",
            "Requirement already satisfied: joblib>=0.11 in /usr/local/lib/python3.8/dist-packages (from scikit-learn>=0.18->lime) (1.2.0)\n",
            "Requirement already satisfied: threadpoolctl>=2.0.0 in /usr/local/lib/python3.8/dist-packages (from scikit-learn>=0.18->lime) (3.1.0)\n",
            "Requirement already satisfied: six>=1.5 in /usr/local/lib/python3.8/dist-packages (from python-dateutil>=2.1->matplotlib->lime) (1.15.0)\n",
            "Building wheels for collected packages: lime\n",
            "  Building wheel for lime (setup.py) ... \u001b[?25l\u001b[?25hdone\n",
            "  Created wheel for lime: filename=lime-0.2.0.1-py3-none-any.whl size=283857 sha256=b5515ca0795ee1e29ef525b20ddcae2685dce3bf05813d9dfbad619a161c0b9e\n",
            "  Stored in directory: /root/.cache/pip/wheels/e6/a6/20/cc1e293fcdb67ede666fed293cb895395e7ecceb4467779546\n",
            "Successfully built lime\n",
            "Installing collected packages: lime\n",
            "Successfully installed lime-0.2.0.1\n"
          ]
        }
      ]
    },
    {
      "cell_type": "code",
      "execution_count": 2,
      "metadata": {
        "id": "EhTTtuEivG_R"
      },
      "outputs": [],
      "source": [
        "import lime\n",
        "import sklearn\n",
        "import numpy as np\n",
        "import sklearn\n",
        "import sklearn.ensemble\n",
        "import sklearn.metrics\n",
        "from __future__ import print_function"
      ]
    },
    {
      "cell_type": "code",
      "source": [
        "from sklearn.datasets import fetch_20newsgroups\n",
        "categories = ['alt.atheism', 'soc.religion.christian']\n",
        "newsgroups_train = fetch_20newsgroups(subset='train', categories=categories)\n",
        "newsgroups_test = fetch_20newsgroups(subset='test', categories=categories)\n",
        "class_names = ['atheism', 'christian']"
      ],
      "metadata": {
        "id": "GxzcZ1p0vjSn"
      },
      "execution_count": 3,
      "outputs": []
    },
    {
      "cell_type": "code",
      "source": [
        "vectorizer = sklearn.feature_extraction.text.TfidfVectorizer(lowercase=False)\n",
        "train_vectors = vectorizer.fit_transform(newsgroups_train.data)\n",
        "test_vectors = vectorizer.transform(newsgroups_test.data)"
      ],
      "metadata": {
        "id": "iaEs2ZPHvmzX"
      },
      "execution_count": 4,
      "outputs": []
    },
    {
      "cell_type": "code",
      "source": [
        "rf = sklearn.ensemble.RandomForestClassifier(n_estimators=500)\n",
        "rf.fit(train_vectors, newsgroups_train.target)"
      ],
      "metadata": {
        "colab": {
          "base_uri": "https://localhost:8080/"
        },
        "id": "nTvOAKw9vr3l",
        "outputId": "19a984a0-9b6b-4323-e05f-4f352e56643d"
      },
      "execution_count": 5,
      "outputs": [
        {
          "output_type": "execute_result",
          "data": {
            "text/plain": [
              "RandomForestClassifier(n_estimators=500)"
            ]
          },
          "metadata": {},
          "execution_count": 5
        }
      ]
    },
    {
      "cell_type": "code",
      "source": [
        "pred = rf.predict(test_vectors)\n",
        "sklearn.metrics.f1_score(newsgroups_test.target, pred, average='binary')"
      ],
      "metadata": {
        "colab": {
          "base_uri": "https://localhost:8080/"
        },
        "id": "J34zad7_vune",
        "outputId": "0c68cc4e-7c1c-435e-f8fb-9e92eb35c799"
      },
      "execution_count": 6,
      "outputs": [
        {
          "output_type": "execute_result",
          "data": {
            "text/plain": [
              "0.9187935034802783"
            ]
          },
          "metadata": {},
          "execution_count": 6
        }
      ]
    },
    {
      "cell_type": "code",
      "source": [
        "from lime import lime_text\n",
        "from sklearn.pipeline import make_pipeline\n",
        "c = make_pipeline(vectorizer, rf)"
      ],
      "metadata": {
        "id": "xhIaCiwsvySg"
      },
      "execution_count": 7,
      "outputs": []
    },
    {
      "cell_type": "code",
      "source": [
        "print(c.predict_proba([newsgroups_test.data[0]]))"
      ],
      "metadata": {
        "colab": {
          "base_uri": "https://localhost:8080/"
        },
        "id": "VyWgpANPwCTw",
        "outputId": "a269b3a4-f57d-4427-d89f-70f9d4c0e1ec"
      },
      "execution_count": 8,
      "outputs": [
        {
          "output_type": "stream",
          "name": "stdout",
          "text": [
            "[[0.304 0.696]]\n"
          ]
        }
      ]
    },
    {
      "cell_type": "code",
      "source": [
        "from lime.lime_text import LimeTextExplainer\n",
        "explainer = LimeTextExplainer(class_names=class_names)"
      ],
      "metadata": {
        "id": "-AMDbDqFwEKr"
      },
      "execution_count": 9,
      "outputs": []
    },
    {
      "cell_type": "code",
      "source": [
        "idx = 83\n",
        "# newsgroups_test.data[idx]はすぐ下のセル参照。本文。\n",
        "# c.predict_probaはカテゴリーを計算する関数(cはscikit_learnで作成された、TfidfVectorizerとRandomForestClassifierから成るパイプライン)\n",
        "exp = explainer.explain_instance(newsgroups_test.data[idx], c.predict_proba, num_features=6)\n",
        "print('Document id: %d' % idx)\n",
        "print('Probability(christian) =', c.predict_proba([newsgroups_test.data[idx]])[0,1])\n",
        "print('True class: %s' % class_names[newsgroups_test.target[idx]])"
      ],
      "metadata": {
        "colab": {
          "base_uri": "https://localhost:8080/"
        },
        "id": "1s7lbwi5wJeZ",
        "outputId": "c2d9bfe9-d9da-4fd5-f30d-a516b768cf51"
      },
      "execution_count": 10,
      "outputs": [
        {
          "output_type": "stream",
          "name": "stdout",
          "text": [
            "Document id: 83\n",
            "Probability(christian) = 0.442\n",
            "True class: atheism\n"
          ]
        }
      ]
    },
    {
      "cell_type": "code",
      "source": [
        "[newsgroups_test.data[idx]]"
      ],
      "metadata": {
        "colab": {
          "base_uri": "https://localhost:8080/"
        },
        "id": "m_FDvTfIwu75",
        "outputId": "995d00f8-0a52-45f4-9a23-cc1d42f966e5"
      },
      "execution_count": 16,
      "outputs": [
        {
          "output_type": "execute_result",
          "data": {
            "text/plain": [
              "['From: johnchad@triton.unm.edu (jchadwic)\\nSubject: Another request for Darwin Fish\\nOrganization: University of New Mexico, Albuquerque\\nLines: 11\\nNNTP-Posting-Host: triton.unm.edu\\n\\nHello Gang,\\n\\nThere have been some notes recently asking where to obtain the DARWIN fish.\\nThis is the same question I have and I have not seen an answer on the\\nnet. If anyone has a contact please post on the net or email me.\\n\\nThanks,\\n\\njohn chadwick\\njohnchad@triton.unm.edu\\nor\\n']"
            ]
          },
          "metadata": {},
          "execution_count": 16
        }
      ]
    },
    {
      "cell_type": "code",
      "source": [
        "c.predict_proba([newsgroups_test.data[idx]])"
      ],
      "metadata": {
        "colab": {
          "base_uri": "https://localhost:8080/"
        },
        "id": "cmUsYwV7wzfW",
        "outputId": "f61b18a2-12c8-4565-ac58-51d460fc394b"
      },
      "execution_count": 17,
      "outputs": [
        {
          "output_type": "execute_result",
          "data": {
            "text/plain": [
              "array([[0.558, 0.442]])"
            ]
          },
          "metadata": {},
          "execution_count": 17
        }
      ]
    },
    {
      "cell_type": "code",
      "source": [
        "exp.as_list()"
      ],
      "metadata": {
        "colab": {
          "base_uri": "https://localhost:8080/"
        },
        "id": "S9X7Y46zwLsT",
        "outputId": "107779d3-00e9-494b-8fb5-1bd0c339867a"
      },
      "execution_count": 11,
      "outputs": [
        {
          "output_type": "execute_result",
          "data": {
            "text/plain": [
              "[('Host', -0.1445569638577265),\n",
              " ('Posting', -0.12915894880122067),\n",
              " ('NNTP', -0.09536589388663919),\n",
              " ('edu', -0.04531538492929748),\n",
              " ('University', 0.01769878467799845),\n",
              " ('post', -0.017404486701427888)]"
            ]
          },
          "metadata": {},
          "execution_count": 11
        }
      ]
    },
    {
      "cell_type": "code",
      "source": [
        "print('Original prediction:', rf.predict_proba(test_vectors[idx])[0,1])\n",
        "tmp = test_vectors[idx].copy()\n",
        "tmp[0,vectorizer.vocabulary_['Posting']] = 0\n",
        "tmp[0,vectorizer.vocabulary_['Host']] = 0\n",
        "print('Prediction removing some features:', rf.predict_proba(tmp)[0,1])\n",
        "print('Difference:', rf.predict_proba(tmp)[0,1] - rf.predict_proba(test_vectors[idx])[0,1])"
      ],
      "metadata": {
        "colab": {
          "base_uri": "https://localhost:8080/"
        },
        "id": "Fjl89rAUwQ-O",
        "outputId": "90d6907a-22b9-485d-902d-dd75fcceb281"
      },
      "execution_count": 12,
      "outputs": [
        {
          "output_type": "stream",
          "name": "stdout",
          "text": [
            "Original prediction: 0.442\n",
            "Prediction removing some features: 0.69\n",
            "Difference: 0.24799999999999994\n"
          ]
        }
      ]
    },
    {
      "cell_type": "code",
      "source": [],
      "metadata": {
        "id": "Fn-HFEsFwS0P"
      },
      "execution_count": null,
      "outputs": []
    }
  ]
}