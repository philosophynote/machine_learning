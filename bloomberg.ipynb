{
  "nbformat": 4,
  "nbformat_minor": 0,
  "metadata": {
    "colab": {
      "provenance": [],
      "authorship_tag": "ABX9TyMJJjOlcZVNEtX6AunhV6vz",
      "include_colab_link": true
    },
    "kernelspec": {
      "name": "python3",
      "display_name": "Python 3"
    },
    "language_info": {
      "name": "python"
    }
  },
  "cells": [
    {
      "cell_type": "markdown",
      "metadata": {
        "id": "view-in-github",
        "colab_type": "text"
      },
      "source": [
        "<a href=\"https://colab.research.google.com/github/philosophynote/machine_learning/blob/main/bloomberg.ipynb\" target=\"_parent\"><img src=\"https://colab.research.google.com/assets/colab-badge.svg\" alt=\"Open In Colab\"/></a>"
      ]
    },
    {
      "cell_type": "code",
      "source": [
        "from bs4 import BeautifulSoup\n",
        "import re"
      ],
      "metadata": {
        "id": "Bze7bJOdL3Cg"
      },
      "execution_count": 14,
      "outputs": []
    },
    {
      "cell_type": "code",
      "execution_count": 3,
      "metadata": {
        "id": "ctDs4b_l8rgS"
      },
      "outputs": [],
      "source": [
        "BLOOMBERG_SITEMAP_URL = \"https://www.bloomberg.co.jp/feeds/cojp/sitemap_recent.xml\""
      ]
    },
    {
      "cell_type": "code",
      "source": [
        "import requests\n",
        "import urllib.request\n",
        "import xml.etree.ElementTree as ET\n",
        "\n",
        "response = requests.get(BLOOMBERG_SITEMAP_URL)\n",
        "response.raise_for_status()\n",
        "root = ET.fromstring(response.content)\n",
        "namespace = {'ns': 'http://www.sitemaps.org/schemas/sitemap/0.9'}\n",
        "urls = [url.find('ns:loc', namespace).text for url in root.findall('ns:url', namespace)]\n",
        "\n",
        "\n",
        "# 結果を表示\n",
        "print(urls)\n"
      ],
      "metadata": {
        "colab": {
          "base_uri": "https://localhost:8080/"
        },
        "id": "t6CXgq9UIbNo",
        "outputId": "7b891d02-c634-4bf9-f9df-f4c8067163c8"
      },
      "execution_count": 6,
      "outputs": [
        {
          "output_type": "stream",
          "name": "stdout",
          "text": [
            "['https://www.bloomberg.co.jp/news/articles/2024-06-05/SEM5ROT0AFB400', 'https://www.bloomberg.co.jp/news/articles/2024-06-05/SEM29OT0G1KW00', 'https://www.bloomberg.co.jp/news/articles/2024-06-05/SELXWFDWRGG100', 'https://www.bloomberg.co.jp/news/articles/2024-06-05/SEM1LTDWX2PS00', 'https://www.bloomberg.co.jp/news/articles/2024-06-05/SELYJODWRGG000', 'https://www.bloomberg.co.jp/news/articles/2024-06-05/SELWRHDWX2PS00', 'https://www.bloomberg.co.jp/news/articles/2024-06-05/SEM0AGDWLU6800', 'https://www.bloomberg.co.jp/news/articles/2024-06-05/SELOA5DWX2PS00', 'https://www.bloomberg.co.jp/news/articles/2024-06-05/SELVQJT1UM0W00', 'https://www.bloomberg.co.jp/news/articles/2024-06-05/SELWQUDWLU6800', 'https://www.bloomberg.co.jp/news/articles/2024-06-05/SELT50DWRGG000', 'https://www.bloomberg.co.jp/news/articles/2024-06-05/SEL3WNDWX2PS00', 'https://www.bloomberg.co.jp/news/articles/2024-06-05/SELRBYT0G1KW00', 'https://www.bloomberg.co.jp/news/articles/2024-06-05/SELOVGDWLU6800', 'https://www.bloomberg.co.jp/news/articles/2024-06-05/SELONQT0AFB400', 'https://www.bloomberg.co.jp/news/articles/2024-06-05/SELK42T0AFB500', 'https://www.bloomberg.co.jp/news/articles/2024-06-05/SELJGAT0G1KW00', 'https://www.bloomberg.co.jp/news/articles/2024-06-05/SELK19T1UM0W00', 'https://www.bloomberg.co.jp/news/articles/2024-06-05/SELBOJT1UM0W00', 'https://www.bloomberg.co.jp/news/articles/2024-06-05/SEL6TGT0G1KW00', 'https://www.bloomberg.co.jp/news/articles/2024-06-05/SELH7PT1UM0W00', 'https://www.bloomberg.co.jp/news/articles/2024-06-05/SEKOHNDWRGG000', 'https://www.bloomberg.co.jp/news/articles/2024-06-05/SEL5WVT0AFB400', 'https://www.bloomberg.co.jp/news/articles/2024-06-05/SELANNT1UM0W00', 'https://www.bloomberg.co.jp/news/articles/2024-06-05/SELD5RDWX2PS', 'https://www.bloomberg.co.jp/news/articles/2024-06-05/SELEP7T0G1KW00', 'https://www.bloomberg.co.jp/news/articles/2024-06-05/SELFTQDWX2PS00', 'https://www.bloomberg.co.jp/news/articles/2024-06-05/SEL9LYT0G1KW00', 'https://www.bloomberg.co.jp/news/articles/2024-06-05/SELAMYT0G1KW00', 'https://www.bloomberg.co.jp/news/articles/2024-06-05/SELBDVT1UM0W00', 'https://www.bloomberg.co.jp/news/articles/2024-06-05/SELC0XT1UM0W00', 'https://www.bloomberg.co.jp/news/articles/2024-06-05/SEKIZPDWLU6800', 'https://www.bloomberg.co.jp/news/articles/2024-06-05/SEKU5FT0G1KW00', 'https://www.bloomberg.co.jp/news/articles/2024-06-04/SE8CR9T0G1KW00', 'https://www.bloomberg.co.jp/news/articles/2024-06-05/SEL7AMT0G1KW00', 'https://www.bloomberg.co.jp/news/articles/2024-06-04/SEKSLKT1UM0W00', 'https://www.bloomberg.co.jp/news/articles/2024-06-05/SEL2A7T0AFB400']\n"
          ]
        }
      ]
    },
    {
      "cell_type": "code",
      "source": [
        "each_page_res = requests.get(urls[0])"
      ],
      "metadata": {
        "id": "FHFdGPeRLYCj"
      },
      "execution_count": 5,
      "outputs": []
    },
    {
      "cell_type": "code",
      "source": [
        "headers = { \"User-Agent\": \"Mozilla/5.0 (X11; Ubuntu; Linux x86_64; rv:47.0) Gecko/20100101 Firefox/47.0\" }"
      ],
      "metadata": {
        "id": "Wb7cr48ILnPr"
      },
      "execution_count": 9,
      "outputs": []
    },
    {
      "cell_type": "code",
      "source": [
        "request = urllib.request.Request(urls[0], headers=headers)\n",
        "with urllib.request.urlopen(request) as response:\n",
        "  html = response.read()\n",
        "soup = BeautifulSoup(html, 'lxml', from_encoding='utf-8')\n",
        "\n",
        "h1_texts = [h1.get_text() for h1 in soup.find_all('h1')]\n",
        "p_texts = [p.get_text() for p in soup.find_all('p') if ]\n",
        "unwanted_chars = re.compile(r'[\\u3000\\uFFFD\\uFEFF]')\n",
        "# 結果を表示\n",
        "print(\"H1 Tags:\", h1_texts)\n",
        "print(\"P Tags:\", p_texts)"
      ],
      "metadata": {
        "colab": {
          "base_uri": "https://localhost:8080/"
        },
        "id": "72YA_IZHLemG",
        "outputId": "4780dc8b-7a97-4d7d-eebc-cceac00f9125"
      },
      "execution_count": 12,
      "outputs": [
        {
          "output_type": "stream",
          "name": "stdout",
          "text": [
            "H1 Tags: ['カナダ中銀、政策金利を4.75％に下げ－追加利下げも示唆']\n",
            "P Tags: ['カナダ銀行（中央銀行）は５日、政策金利を0.25ポイント引き下げ4.75％とした。経済のソフトランディング（軟着陸）が視野に入る中、主要７カ国（Ｇ７）の先陣を切って金融緩和に着手した。', '\\u3000\\u3000ブルームバーグの調査でも、利下げが広く予想されていた。', '\\u3000\\u3000カナダ中銀は、インフレ率が２％の目標に向かっているとの確信を深めており、さらなる進展が得られれば「追加利下げを想定するのは理にかなう」としている。', '\\u3000\\u3000マックレム総裁は会見の冒頭、「基調的なインフレが緩和傾向にあることを示す持続的かつ一段の証拠により、金融政策はこれまでほど景気抑制的である必要がなくなった」と指摘した。', '\\u3000\\u3000カナダ中銀は、金融緩和の軌道はインフレ鈍化の進展に左右されるとの考えを示しており、「インフレ抑制の道のりはまだら模様となる可能性が高い」と述べている。見通しに対する潜在リスクとして、世界的な緊張、予想を上回るペースでの住宅の値上がり、生産性に対する賃金上昇率の高さを挙げた。', '\\u3000\\u3000マックレム総裁は「インフレ率を目標に戻す上で、金融政策を必要以上に引き締めることはしたくない」とする一方、「利下げをあまりに急げば、これまでの成果を台無しにする恐れがある」と述べた。', '\\u3000\\u3000発表を受けて、カナダ国債は上昇。カナダ・ドルは対米ドルで下落した。', '原題：Bank of Canada Cuts Rates to 4.75%, Signals More to Come (2)（抜粋）']\n"
          ]
        }
      ]
    },
    {
      "cell_type": "code",
      "source": [
        "p_texts"
      ],
      "metadata": {
        "colab": {
          "base_uri": "https://localhost:8080/"
        },
        "id": "BAt8GLa4MFWC",
        "outputId": "86700c44-70f6-4ab8-ef32-8f7d50a7258b"
      },
      "execution_count": 13,
      "outputs": [
        {
          "output_type": "execute_result",
          "data": {
            "text/plain": [
              "['カナダ銀行（中央銀行）は５日、政策金利を0.25ポイント引き下げ4.75％とした。経済のソフトランディング（軟着陸）が視野に入る中、主要７カ国（Ｇ７）の先陣を切って金融緩和に着手した。',\n",
              " '\\u3000\\u3000ブルームバーグの調査でも、利下げが広く予想されていた。',\n",
              " '\\u3000\\u3000カナダ中銀は、インフレ率が２％の目標に向かっているとの確信を深めており、さらなる進展が得られれば「追加利下げを想定するのは理にかなう」としている。',\n",
              " '\\u3000\\u3000マックレム総裁は会見の冒頭、「基調的なインフレが緩和傾向にあることを示す持続的かつ一段の証拠により、金融政策はこれまでほど景気抑制的である必要がなくなった」と指摘した。',\n",
              " '\\u3000\\u3000カナダ中銀は、金融緩和の軌道はインフレ鈍化の進展に左右されるとの考えを示しており、「インフレ抑制の道のりはまだら模様となる可能性が高い」と述べている。見通しに対する潜在リスクとして、世界的な緊張、予想を上回るペースでの住宅の値上がり、生産性に対する賃金上昇率の高さを挙げた。',\n",
              " '\\u3000\\u3000マックレム総裁は「インフレ率を目標に戻す上で、金融政策を必要以上に引き締めることはしたくない」とする一方、「利下げをあまりに急げば、これまでの成果を台無しにする恐れがある」と述べた。',\n",
              " '\\u3000\\u3000発表を受けて、カナダ国債は上昇。カナダ・ドルは対米ドルで下落した。',\n",
              " '原題：Bank of Canada Cuts Rates to 4.75%, Signals More to Come (2)（抜粋）']"
            ]
          },
          "metadata": {},
          "execution_count": 13
        }
      ]
    },
    {
      "cell_type": "code",
      "source": [],
      "metadata": {
        "id": "VPvTj0VGMHDn"
      },
      "execution_count": null,
      "outputs": []
    }
  ]
}